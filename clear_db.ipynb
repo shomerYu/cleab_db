{
 "cells": [
  {
   "cell_type": "code",
   "execution_count": 4,
   "metadata": {},
   "outputs": [],
   "source": [
    "from argparse import ArgumentParser\n",
    "from clear_db import filter_round"
   ]
  },
  {
   "cell_type": "code",
   "execution_count": 5,
   "metadata": {},
   "outputs": [
    {
     "name": "stdout",
     "output_type": "stream",
     "text": [
      "start downloading templates\n",
      "finish downloading templates\n",
      "finish template 0 out of 55\n",
      "finish template 1 out of 55\n",
      "finish template 2 out of 55\n",
      "finish template 3 out of 55\n",
      "finish template 4 out of 55\n",
      "finish template 5 out of 55\n",
      "finish template 6 out of 55\n",
      "finish template 7 out of 55\n",
      "finish template 8 out of 55\n",
      "finish template 9 out of 55\n",
      "finish template 10 out of 55\n",
      "finish template 11 out of 55\n",
      "finish template 12 out of 55\n",
      "finish template 13 out of 55\n",
      "finish template 14 out of 55\n",
      "finish template 15 out of 55\n",
      "finish template 16 out of 55\n",
      "finish template 17 out of 55\n",
      "finish template 18 out of 55\n",
      "finish template 19 out of 55\n",
      "finish template 20 out of 55\n",
      "finish template 21 out of 55\n",
      "finish template 22 out of 55\n",
      "finish template 23 out of 55\n",
      "finish template 24 out of 55\n",
      "finish template 25 out of 55\n",
      "finish template 26 out of 55\n",
      "finish template 27 out of 55\n",
      "finish template 28 out of 55\n",
      "finish template 29 out of 55\n",
      "finish template 30 out of 55\n",
      "finish template 31 out of 55\n",
      "finish template 32 out of 55\n",
      "finish template 33 out of 55\n",
      "finish template 34 out of 55\n",
      "finish template 35 out of 55\n",
      "finish template 36 out of 55\n",
      "finish template 37 out of 55\n",
      "finish template 38 out of 55\n",
      "finish template 39 out of 55\n",
      "finish template 40 out of 55\n",
      "finish template 41 out of 55\n",
      "finish template 42 out of 55\n",
      "finish template 43 out of 55\n",
      "finish template 44 out of 55\n",
      "finish template 45 out of 55\n",
      "finish template 46 out of 55\n",
      "finish template 47 out of 55\n",
      "finish template 48 out of 55\n",
      "finish template 49 out of 55\n",
      "finish template 50 out of 55\n",
      "finish template 51 out of 55\n",
      "finish template 52 out of 55\n",
      "finish template 53 out of 55\n",
      "finish template 54 out of 55\n",
      "{'205': {'goodTemplates': ['5850', '5874', '5909', '4368', '6123', '2779', '5907', '2469', '3091', '4151', '5941', '5851', '5943', '6014', '3090', '6117', '2438', '2695', '3747', '5953', '5844', '3426', '2515', '4166', '4021', '4459', '5905', '2754', '6046', '3269', '5991', '3026', '2914', '5954', '2422', '2511', '2545', '3717', '2516', '5979', '2463', '2416', '2476', '4217', '6036', '2830', '2912', '5938', '2439', '2435', '4582', '4370', '3341', '4558'], 'badTemplates': ['3105']}}\n"
     ]
    }
   ],
   "source": [
    "parser = ArgumentParser()\n",
    "# parser.add_argument('-env', help='choose UAT or PROD')\n",
    "# parser.add_argument('-round_id', type=int)\n",
    "# args = parser.parse_args()\n",
    "env = \"PROD\" #args.env\n",
    "round_id = \"205\" #str(args.round_id)\n",
    "filter_round(round_id, env)"
   ]
  },
  {
   "cell_type": "code",
   "execution_count": null,
   "metadata": {},
   "outputs": [],
   "source": []
  }
 ],
 "metadata": {
  "kernelspec": {
   "display_name": "Python 3",
   "language": "python",
   "name": "python3"
  },
  "language_info": {
   "codemirror_mode": {
    "name": "ipython",
    "version": 3
   },
   "file_extension": ".py",
   "mimetype": "text/x-python",
   "name": "python",
   "nbconvert_exporter": "python",
   "pygments_lexer": "ipython3",
   "version": "3.6.4"
  }
 },
 "nbformat": 4,
 "nbformat_minor": 4
}
